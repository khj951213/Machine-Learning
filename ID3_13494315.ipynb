{
  "nbformat": 4,
  "nbformat_minor": 0,
  "metadata": {
    "colab": {
      "name": "ID3_13494315.ipynb",
      "provenance": [],
      "authorship_tag": "ABX9TyMQGIRpYZb1pK6JdLIfdADo",
      "include_colab_link": true
    },
    "kernelspec": {
      "name": "python3",
      "display_name": "Python 3"
    },
    "language_info": {
      "name": "python"
    }
  },
  "cells": [
    {
      "cell_type": "markdown",
      "metadata": {
        "id": "view-in-github",
        "colab_type": "text"
      },
      "source": [
        "<a href=\"https://colab.research.google.com/github/khj951213/Machine-Learning/blob/main/ID3_13494315.ipynb\" target=\"_parent\"><img src=\"https://colab.research.google.com/assets/colab-badge.svg\" alt=\"Open In Colab\"/></a>"
      ]
    },
    {
      "cell_type": "code",
      "metadata": {
        "id": "xZ7I2K7cYnQ_"
      },
      "source": [
        "# Machine Learning 31005\n",
        "# Name: Hyun June Kim\n",
        "# Student ID: 13494315\n",
        " \n",
        "\n",
        "import pandas as pd\n",
        "import numpy as np\n",
        "\n",
        "_raw_data = \"\"\"Outlook,Temperature,Humidity,Wind,Play\n",
        "Sunny,Hot,High,Weak,No\n",
        "Sunny,Hot,High,Strong,No\n",
        "Overcast,Hot,High,Weak,Yes\n",
        "Rain,Mild,High,Weak,Yes\n",
        "Rain,Cool,Normal,Weak,Yes\n",
        "Overcast,Cool,Normal,Strong,Yes\n",
        "Sunny,Cool,Normal,Strong,Yes\n",
        "Sunny,Mild,High,Weak,No\n",
        "Rain,Cool,Normal,Weak,Yes\n",
        "Sunny,Mild,Normal,Weak,Yes\n",
        "Overcast,Mild,Normal,Strong,Yes\n",
        "Overcast,Hot,Normal,Strong,Yes\n",
        "\"\"\"\n",
        "\n",
        "with open(\"sport_data.csv\", \"w\") as f:\n",
        "    f.write(_raw_data)\n",
        "df = pd.read_csv(\"sport_data.csv\")\n"
      ],
      "execution_count": null,
      "outputs": []
    },
    {
      "cell_type": "code",
      "metadata": {
        "id": "QkZlgxgGY-rg"
      },
      "source": [
        "def compute_entropy(y):\n",
        "    \"\"\"\n",
        "    :param y: The data samples of a discrete distribution\n",
        "    \"\"\"\n",
        "    if len(y) < 2: #  a trivial case\n",
        "        return 0\n",
        "    freq = np.array( y.value_counts(normalize=True) )\n",
        "    return -(freq * np.log2(freq + 1e-6)).sum() # the small eps for \n",
        "    # safe numerical computation "
      ],
      "execution_count": null,
      "outputs": []
    },
    {
      "cell_type": "code",
      "metadata": {
        "colab": {
          "base_uri": "https://localhost:8080/"
        },
        "id": "bFCqtztfZAtG",
        "outputId": "525eccc8-70d4-4776-dd2d-f0e56173ff16"
      },
      "source": [
        "def compute_info_gain(samples, attr, target):\n",
        "    values = samples[attr].value_counts(normalize=True)\n",
        "    split_ent = 0\n",
        "    for v, fr in values.iteritems():\n",
        "\n",
        "        index = samples[attr]==v\n",
        "        sub_ent = compute_entropy(target[index])\n",
        "        split_ent += fr * sub_ent\n",
        "    ent = compute_entropy(target)\n",
        "    return ent - split_ent\n",
        "\n",
        "class TreeNode:\n",
        "    \"\"\"\n",
        "    A recursively defined data structure to store a tree.\n",
        "    Each node can contain other nodes as its children\n",
        "    \"\"\"\n",
        "    def __init__(self):\n",
        "        self.children = {} # Sub nodes --\n",
        "        # recursive, those elements of the same type (TreeNode)\n",
        "        self.decision = None # Undecided\n",
        "        self.split_feat_name = None # Splitting feature\n",
        "\n",
        "    def pretty_print(self, prefix=''):\n",
        "        if self.split_feat_name is not None:\n",
        "            for k, v in self.children.items():\n",
        "                v.pretty_print(f\"{prefix}:When {self.split_feat_name} is {k}\")\n",
        "                #v.pretty_print(f\"{prefix}:{k}:\")\n",
        "        else:\n",
        "            print(f\"{prefix}:{self.decision}\")\n",
        "\n",
        "    def predict(self, sample):\n",
        "        if self.decision is not None:\n",
        "            # uncomment to get log information of code execution\n",
        "            print(\"Decision:\", self.decision)\n",
        "            return self.decision\n",
        "        else: \n",
        "            # this node is an internal one, further queries about an attribute \n",
        "            # of the data is needed.\n",
        "            attr_val = sample[self.split_feat_name]\n",
        "            \n",
        "            child = self.children[attr_val]\n",
        "            # uncomment to get log information of code execution\n",
        "            print(\"Testing \", self.split_feat_name, \"->\", attr_val)\n",
        "\n",
        "            return child.predict(sample)\n",
        "            # HINT: return prediction made by sub-tree\n",
        "\n",
        "    def fit(self, X, y):\n",
        "        \"\"\"\n",
        "        The function accepts a training dataset, from which it builds the tree \n",
        "        structure to make decisions or to make children nodes (tree branches) \n",
        "        to do further inquiries\n",
        "        :param X: [n * p] n observed data samples of p attributes\n",
        "        :param y: [n] target values\n",
        "        \"\"\"\n",
        "        if len(X) == 0:\n",
        "            # If the data is empty when this node is arrived, \n",
        "            # we just make an arbitrary decision\n",
        "            self.decision = \"Yes\"\n",
        "            return\n",
        "        else: \n",
        "            unique_values = y.unique()\n",
        "            if len(unique_values) == 1:\n",
        "                self.decision= unique_values[0]\n",
        "                return\n",
        "            else:\n",
        "                info_gain_max = 0\n",
        "\n",
        "                for a in X.keys(): # Examine each attribute\n",
        "                    aig = compute_info_gain(X, a, y)\n",
        "                    print(f\"attribute information gain for {a}: {aig}\")\n",
        "                    if aig > info_gain_max:\n",
        "                        info_gain_max = aig\n",
        "                        self.split_feat_name = a    \n",
        "                    \n",
        "                \n",
        "                print(f\"Split by {self.split_feat_name}, IG: {info_gain_max:.2f}\")\n",
        "                # 1st self.split_feat_name == humidity\n",
        "                self.children = {}\n",
        "\n",
        "                for v in X[self.split_feat_name].unique():\n",
        "                    index = X[self.split_feat_name] == v # row that has v attribute\n",
        "                    self.children[v] = TreeNode()\n",
        "                    self.children[v].fit(X[index], y[index])\n",
        "            \n",
        "\n",
        "                    \n",
        "# Test tree building\n",
        "attrs = ['Outlook', 'Temperature', 'Humidity', 'Wind']\n",
        "data = df[attrs]\n",
        "target = df[\"Play\"]\n",
        "\n",
        "t = TreeNode()\n",
        "t.fit(data, target)\n"
      ],
      "execution_count": null,
      "outputs": [
        {
          "output_type": "stream",
          "name": "stdout",
          "text": [
            "attribute information gain for Outlook: 0.40671453519975437\n",
            "attribute information gain for Temperature: 0.2075182687424375\n",
            "attribute information gain for Humidity: 0.4067145351997544\n",
            "attribute information gain for Wind: 0.006987753258770657\n",
            "Split by Humidity, IG: 0.41\n",
            "attribute information gain for Outlook: 0.9709485746841842\n",
            "attribute information gain for Temperature: 0.019973094021878857\n",
            "attribute information gain for Humidity: 0.0\n",
            "attribute information gain for Wind: 0.17095001737734972\n",
            "Split by Outlook, IG: 0.97\n"
          ]
        }
      ]
    },
    {
      "cell_type": "code",
      "metadata": {
        "colab": {
          "base_uri": "https://localhost:8080/"
        },
        "id": "rrwPLdgvZDv4",
        "outputId": "16ad3881-51d0-4937-81b9-b0229a8d3e3b"
      },
      "source": [
        "# Test tree working\n",
        "for i in [0,2,4]:\n",
        "    print(f\"Test predict sample[{i}]: \\n{data.iloc[i]}\\n\\tTarget: {target.iloc[i]}\")\n",
        "    print(f\"Making decision ...\")\n",
        "    pred = t.predict(data.iloc[i])\n"
      ],
      "execution_count": null,
      "outputs": [
        {
          "output_type": "stream",
          "name": "stdout",
          "text": [
            "Test predict sample[0]: \n",
            "Outlook        Sunny\n",
            "Temperature      Hot\n",
            "Humidity        High\n",
            "Wind            Weak\n",
            "Name: 0, dtype: object\n",
            "\tTarget: No\n",
            "Making decision ...\n",
            "Testing  Humidity -> High\n",
            "Testing  Outlook -> Sunny\n",
            "Decision: No\n",
            "Test predict sample[2]: \n",
            "Outlook        Overcast\n",
            "Temperature         Hot\n",
            "Humidity           High\n",
            "Wind               Weak\n",
            "Name: 2, dtype: object\n",
            "\tTarget: Yes\n",
            "Making decision ...\n",
            "Testing  Humidity -> High\n",
            "Testing  Outlook -> Overcast\n",
            "Decision: Yes\n",
            "Test predict sample[4]: \n",
            "Outlook          Rain\n",
            "Temperature      Cool\n",
            "Humidity       Normal\n",
            "Wind             Weak\n",
            "Name: 4, dtype: object\n",
            "\tTarget: Yes\n",
            "Making decision ...\n",
            "Testing  Humidity -> Normal\n",
            "Decision: Yes\n"
          ]
        }
      ]
    },
    {
      "cell_type": "code",
      "metadata": {
        "id": "jzWjb-elZGz5",
        "colab": {
          "base_uri": "https://localhost:8080/"
        },
        "outputId": "d13f4ce7-c368-4cf0-dbcb-731d6dfd01f6"
      },
      "source": [
        "t.pretty_print()"
      ],
      "execution_count": null,
      "outputs": [
        {
          "output_type": "stream",
          "name": "stdout",
          "text": [
            ":When Humidity is High:When Outlook is Sunny:No\n",
            ":When Humidity is High:When Outlook is Overcast:Yes\n",
            ":When Humidity is High:When Outlook is Rain:Yes\n",
            ":When Humidity is Normal:Yes\n"
          ]
        }
      ]
    }
  ]
}